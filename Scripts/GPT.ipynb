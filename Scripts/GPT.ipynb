{
 "cells": [
  {
   "cell_type": "code",
   "execution_count": 1,
   "id": "f6ec6ade",
   "metadata": {},
   "outputs": [
    {
     "name": "stdout",
     "output_type": "stream",
     "text": [
      "Defaulting to user installation because normal site-packages is not writeable\n",
      "Requirement already satisfied: openai in c:\\programdata\\anaconda3\\lib\\site-packages (0.26.4)\n",
      "Requirement already satisfied: requests>=2.20 in c:\\programdata\\anaconda3\\lib\\site-packages (from openai) (2.28.1)\n",
      "Requirement already satisfied: aiohttp in c:\\programdata\\anaconda3\\lib\\site-packages (from openai) (3.8.3)\n",
      "Requirement already satisfied: tqdm in c:\\programdata\\anaconda3\\lib\\site-packages (from openai) (4.64.1)\n",
      "Requirement already satisfied: idna<4,>=2.5 in c:\\programdata\\anaconda3\\lib\\site-packages (from requests>=2.20->openai) (3.3)\n",
      "Requirement already satisfied: charset-normalizer<3,>=2 in c:\\programdata\\anaconda3\\lib\\site-packages (from requests>=2.20->openai) (2.0.4)\n",
      "Requirement already satisfied: certifi>=2017.4.17 in c:\\programdata\\anaconda3\\lib\\site-packages (from requests>=2.20->openai) (2022.9.14)\n",
      "Requirement already satisfied: urllib3<1.27,>=1.21.1 in c:\\programdata\\anaconda3\\lib\\site-packages (from requests>=2.20->openai) (1.26.11)\n",
      "Requirement already satisfied: frozenlist>=1.1.1 in c:\\programdata\\anaconda3\\lib\\site-packages (from aiohttp->openai) (1.3.3)\n",
      "Requirement already satisfied: multidict<7.0,>=4.5 in c:\\programdata\\anaconda3\\lib\\site-packages (from aiohttp->openai) (6.0.4)\n",
      "Requirement already satisfied: aiosignal>=1.1.2 in c:\\programdata\\anaconda3\\lib\\site-packages (from aiohttp->openai) (1.3.1)\n",
      "Requirement already satisfied: async-timeout<5.0,>=4.0.0a3 in c:\\programdata\\anaconda3\\lib\\site-packages (from aiohttp->openai) (4.0.2)\n",
      "Requirement already satisfied: yarl<2.0,>=1.0 in c:\\programdata\\anaconda3\\lib\\site-packages (from aiohttp->openai) (1.8.2)\n",
      "Requirement already satisfied: attrs>=17.3.0 in c:\\programdata\\anaconda3\\lib\\site-packages (from aiohttp->openai) (21.4.0)\n",
      "Requirement already satisfied: colorama in c:\\programdata\\anaconda3\\lib\\site-packages (from tqdm->openai) (0.4.5)\n"
     ]
    }
   ],
   "source": [
    "!pip install openai"
   ]
  },
  {
   "cell_type": "code",
   "execution_count": 2,
   "id": "d16b336a",
   "metadata": {},
   "outputs": [],
   "source": [
    "import openai\n",
    "openai.api_key = \"\""
   ]
  },
  {
   "cell_type": "code",
   "execution_count": 3,
   "id": "5f05e375",
   "metadata": {},
   "outputs": [
    {
     "name": "stdout",
     "output_type": "stream",
     "text": [
      "{\n",
      "  \"choices\": [\n",
      "    {\n",
      "      \"finish_reason\": \"length\",\n",
      "      \"index\": 0,\n",
      "      \"logprobs\": null,\n",
      "      \"text\": \"\\n\\nCarl Sagan was an American astronomer, astrophysicist, cosmologist\"\n",
      "    }\n",
      "  ],\n",
      "  \"created\": 1675206789,\n",
      "  \"id\": \"cmpl-6eu6Hclm29cDa2uNhfp1CZryAMPXq\",\n",
      "  \"model\": \"text-davinci-003\",\n",
      "  \"object\": \"text_completion\",\n",
      "  \"usage\": {\n",
      "    \"completion_tokens\": 16,\n",
      "    \"prompt_tokens\": 5,\n",
      "    \"total_tokens\": 21\n",
      "  }\n",
      "}\n"
     ]
    }
   ],
   "source": [
    "#1-basic example\n",
    "response = openai.Completion.create(engine=\"text-davinci-003\", prompt=\"Who was Carl Sagan?\")\n",
    "print(response)"
   ]
  },
  {
   "cell_type": "code",
   "execution_count": 4,
   "id": "2e08b722",
   "metadata": {},
   "outputs": [
    {
     "name": "stdout",
     "output_type": "stream",
     "text": [
      "\n",
      "\n",
      "Carl Sagan was an American astronomer, cosmologist, astrophysicist\n"
     ]
    }
   ],
   "source": [
    "#2-Format Output\n",
    "response = openai.Completion.create(engine=\"text-davinci-003\", prompt=\"Who was Carl Sagan?\")\n",
    "print(response.choices[0].text)"
   ]
  },
  {
   "cell_type": "code",
   "execution_count": 5,
   "id": "875709dc",
   "metadata": {},
   "outputs": [
    {
     "name": "stdout",
     "output_type": "stream",
     "text": [
      "\n",
      "\n",
      "Carl Sagan was an American astronomer, cosmologist, astrophysicist, astrobiologist, author, and science communicator. He is best known for his popular science books, including his Pulitzer Prize-winning work, The Dragons of Eden, and the award-winning Cosmos television series, which presented science and cosmology in the most accessible and inspiring way. Sagan was considered a spokesman for a scientific worldview and for the process of understanding science. He wrote and spoke extensively about his views on life and the Universe, advocating the importance of science in society and our relationship with the environment.\n"
     ]
    }
   ],
   "source": [
    "#3-More tokens 4097\n",
    "#max_tokens : 답변 받는 최대 문자 길이\n",
    "response = openai.Completion.create(\n",
    "    model=\"text-davinci-003\",\n",
    "    prompt=\"Who was Carl Sagan?\",\n",
    "    max_tokens=4000\n",
    ")\n",
    "print(response.choices[0].text)"
   ]
  },
  {
   "cell_type": "code",
   "execution_count": 6,
   "id": "376e532c",
   "metadata": {},
   "outputs": [
    {
     "name": "stdout",
     "output_type": "stream",
     "text": [
      "text-davinci-003\n",
      "Carl Sagan was a celebrated astronomer, author, and science educator. He was best known for his contribution to the scientific research of extraterrestrial life, popularizing science through his award-winning television series and book, Cosmos. He campaigned for nuclear disarmament and was an astronomer at the Cornell University from 1968 until his death in 1996.\n",
      "\n",
      "text-davinci-002\n",
      "Carl Sagan was an American astronomer, astrochemist, and science popularizer. He is best known for his work as a science popularizer, and he played a critical role in the American public's understanding of the scientific process.\n",
      "\n",
      "text-curie-001\n",
      "Carl Sagan was an American astronomer and science writer who helped popularize science through his writing and lectures. He is best known for his work on the science fiction television series \"Star Trek\" and for his book \"The Cosmos: A Personal History.\"\n",
      "\n",
      "text-babbage-001\n",
      "Carl Sagan was an American astronomer, broadcaster, scientist, and public figure who is best known for his work on outer space and life on Earth. Sagan was born in Brooklyn, New York City, in 1930. He graduated from Syracuse University with a B.S. in astronomy in 1953. He then earned a Master's degree in astronomy from the University of California, Berkeley, in 1960. Sagan became an astronomer at the University of Colorado at Boulder in 1966. He served as Harvard University's second astronomer in 1966 and 1967 and as the Cornell University astronomer from 1968 to 1969. He was then an assistant astronomer at NASA's Goddard Space Flight Center from 1969 to 1973. From 1973 to 1984, Sagan was a professor at the University of Massachusetts, Amherst. From 1984 to 1996, he was the director of the Sagan Institute at the University of California, Santa Cruz. In 2008, Sagan was made a Knight Bachelor by Queen Elizabeth II.\n",
      "\n",
      "text-ada-001\n",
      "Carl Sagan was an American scientist and author. He is memorable for his work on completeness of analysis and his laws of apologize.\n",
      "\n"
     ]
    }
   ],
   "source": [
    "#4-Other models\n",
    "#model 자체를 지정하여 원하는 답변을 얻을 수도 있음\n",
    "#GPT의 모델 자체를 바꾸어\n",
    "models_list = [\"text-davinci-003\", \"text-davinci-002\", \"text-curie-001\", \"text-babbage-001\", \"text-ada-001\"]\n",
    "\n",
    "for models in models_list:\n",
    "    response = openai.Completion.create(\n",
    "        model= models,\n",
    "        prompt=\"Who was Carl Sagan?\",\n",
    "        max_tokens=2000\n",
    "    )\n",
    "    response = response.choices[0].text.replace('\\n', '')+'\\n'\n",
    "    print(models+'\\n'+response)"
   ]
  },
  {
   "cell_type": "code",
   "execution_count": 7,
   "id": "ce773dc6",
   "metadata": {},
   "outputs": [
    {
     "name": "stdout",
     "output_type": "stream",
     "text": [
      "\n",
      "\n",
      "The Earth is located in the Orion Arm of the Milky Way, approximately 27,000 light-years from the Galactic Center.\n",
      "\n",
      "\n",
      "The Earth is located in one of the spiral arms of the Milky Way galaxy, called the Orion Arm, which is located between the Sagittarius and Perseus Arms.\n",
      "\n",
      "\n",
      "The Earth is located in the milky way galaxy, about 26,000 light-years from its center.\n",
      "\n",
      "\n",
      "The Earth is located in the Orion Arm of the Milky Way, a spiral arm of stars located 27,000 light-years from the Milky Way's center.\n"
     ]
    }
   ],
   "source": [
    "#5-More responses\n",
    "#기본 값으로는 response가 1개로 가장 최상의 답변만 있으나 n으로 직접 지정해주면 답변의 갯수를 n개까지 받아올 수 있음\n",
    "response = openai.Completion.create(\n",
    "    model=\"text-davinci-003\",\n",
    "    prompt=\"Where is the Earth in Milkyway?\",\n",
    "    max_tokens=2000,\n",
    "    n=4\n",
    ")\n",
    "\n",
    "for a in range(len(response.choices)):\n",
    "    print(response.choices[a].text)"
   ]
  },
  {
   "cell_type": "code",
   "execution_count": 8,
   "id": "273114cb",
   "metadata": {},
   "outputs": [
    {
     "name": "stdout",
     "output_type": "stream",
     "text": [
      "\n",
      "\n",
      "The most common composition of the Earth is iron (32.1%), oxygen (30.1%), silicon (15.1%), magnesium (13.9%), sulfur (2.9%), nickel (1.8%), calcium (1.5%), and aluminum (1.4%).\n",
      "\n",
      "\n",
      "The Earth is composed primarily of Iron (32.1%), Oxygen (30.1%), Silicon (15.1%), Magnesium (13.9%), Sulphur (2.9%), Nickel (1.8%), Calcium (1.5%) and Aluminum (1.4%).\n"
     ]
    }
   ],
   "source": [
    "#6-Best of\n",
    "#best of에 해당하는 숫자 만큼 최적의 답변을 제공.\n",
    "#n개가 적을 경우 n개 이하의 답변이 최적의 답변에서 선택되어 제공됨\n",
    "\n",
    "response = openai.Completion.create(\n",
    "    model=\"text-davinci-003\",\n",
    "    prompt=\"What is the most composition of the Earth?\",\n",
    "    max_tokens=2000,\n",
    "    n=2,\n",
    "    best_of=4\n",
    ")\n",
    "for a in range(len(response.choices)):\n",
    "    print(response.choices[a].text)"
   ]
  },
  {
   "cell_type": "code",
   "execution_count": 9,
   "id": "4f325088",
   "metadata": {},
   "outputs": [
    {
     "name": "stdout",
     "output_type": "stream",
     "text": [
      "0\n",
      "Classical computer programming is based on Boolean logic, which uses binary values of 0 and 1 to represent data and operations. Quantum computer programming, on the other hand, is based on quantum logic, which uses qubits (quantum bits) to represent data and operations. Qubits can exist in multiple states at the same time, allowing for more complex calculations and operations than classical computers. Additionally, quantum computers can take advantage of quantum entanglement and superposition to perform calculations in parallel, which is not possible with classical computers.\n",
      "\n",
      "0.5\n",
      "Classical computer programming is based on traditional computing principles, where instructions are given in a linear fashion and data is processed sequentially. Quantum computer programming is based on the principles of quantum mechanics, where data is processed in a non-linear fashion and instructions can be given in a quantum state. This allows for much faster processing of complex calculations, as well as the ability to store and manipulate quantum data.\n",
      "\n",
      "0.7\n",
      "Classical computer programming relies on the use of bits, which are binary values that can only represent either a 0 or a 1. Quantum computer programming, on the other hand, relies on qubits which can represent both 0 and 1 simultaneously. This allows quantum computers to process information faster and more efficiently than classical computers. Additionally, quantum programming often requires the use of algorithms that are specifically designed to take advantage of the computational power of qubits.\n",
      "\n",
      "1\n",
      "Classical computer programming typically involves writing code in languages such as Java, C++, and Python. The code is then compiled and executed on a processor. This code typically uses a deterministic approach to solve problems, meaning the same set of inputs will always yield the same set of results.Quantum computer programming involves the use of a quantum computer, which operates using quantum bits (qubits) instead of classical bits. Qubits are able to store information in both 0 and 1 states at the same time, known as a superposition. This enables quantum computers to work much faster than classical computers and makes them a suitable choice for problems that involve solving complex problems or analyzing data. Quantum algorithms take advantage of the quantum properties of qubits, such as entanglement, to solve these problems more efficiently. This type of programming also typically involves quantum logic gates in order to manipulate the bits, and is written in a language such as Q# or Qiskit.\n",
      "\n"
     ]
    }
   ],
   "source": [
    "#7-temperature\n",
    "#텍스트의 랜덤을 조정하는 파라미터!! 0~1사이의 값을 가짐\n",
    "#0 : 학습된 데이터에 가깝게, 1이면 모델이 새로 텍스트를 생성함\n",
    "\n",
    "temperature_list=[0,0.5,0.7,1]\n",
    "\n",
    "for temperature in temperature_list:\n",
    "    response = openai.Completion.create(\n",
    "        model=\"text-davinci-003\",\n",
    "        prompt=\"How different classical computer programming between quantum computer programming?\",\n",
    "        max_tokens=3000,\n",
    "        temperature = temperature\n",
    "    )\n",
    "    response = response.choices[0].text.replace('\\n', '')+'\\n'\n",
    "    print(str(temperature)+'\\n'+response)"
   ]
  },
  {
   "cell_type": "code",
   "execution_count": 10,
   "id": "bdfa8713",
   "metadata": {},
   "outputs": [
    {
     "name": "stdout",
     "output_type": "stream",
     "text": [
      "-2\n",
      "1. Exercise regularly. Exercise helps reduce stress and lower your risk of many chronic diseases.2. Eat a healthy, balanced diet. Eat plenty of fruits, vegetables, and whole grains, and limit your intake of processed and fried foods.3. Get plenty of sleep. Lack of sleep can have a significant impact on your health, so make sure you're getting a good night's sleep every night.4. Maintain a healthy weight. Excess weight can increase your risk of many health problems, so it's important to maintain a healthy weight.5. Avoid smoking & drinking. Smoking and drinking can both have a significant impact on your health, so it's important to limit both.6. Maintain a positive attitude. Adopting a positive attitude can help reduce stress and improve your health.7. Spend time with family and friends. It's important to maintain strong relationships with family and friends as it can help with stress.8. Get regular check-ups. It's important to get regular check-ups with your health care provider to diagnose and treat any health problems.9. Do things you enjoy. It's important to make time to do things you enjoy, as it can reduce stress and improve your emotional and mental health.10. Manage stress. It's important to recognize and manage stress so it doesn't have a negative impact on your health.\n",
      "\n",
      "2\n",
      "1. Eat a healthy balanced diet that is low in processed foods and high in lean proteins, whole grains, fruits, vegetables, legumes and nuts. 2. Exercise regularly to keep your heart healthy, maintain muscle mass and strengthen bones.3. Get adequate sleep every night to ensure your body is rested and energized throughout the day.4. Spend time with friends and family and engage in meaningful activities as socializing can help reduce stress levels.5. Try relaxation techniques such as yoga or meditation to help manage stress.6. Practice good hygiene measures, including washing hands frequently.7. Avoid engaging in risky behaviors, such as smoking and excessive drinking.\n",
      "\n",
      "0\n",
      "1. Exercise regularly. Exercise helps boost your overall health, including reducing your risk of chronic diseases. Aim to get at least 30 minutes of physical activity a day.2. Eat a balanced diet. Eating a balanced diet with plenty of fruits, vegetables, whole grains, and lean proteins can help promote longevity and better health.3. Get enough sleep. Make sure you get at least seven to eight hours of quality sleep each night.4. Don't smoke or use drugs. These can both have a damaging effect on your health and greatly increase your risk of developing certain chronic diseases.5. Manage stress. Prolonged stress can have a serious effect on your health, so learn healthy ways to manage stress such as deep breathing and mindfulness.6. Stay connected. Social relationships are important for good health, so take the time to build and sustain relationships with your friends and family.7. Practice preventive health care. For example, get regular physicals, schedule mammograms and flu shots, and practice good oral hygiene.\n",
      "\n",
      "1\n",
      "1. Eat a healthy, balanced diet that is rich in fruits and vegetables, whole grains, and lean proteins.2. Exercise regularly (30 minutes or more per day most days of the week).3. Get enough quality sleep (7-9 hours per night).4. Avoid smoking and exposure to second hand smoke.5. Limit alcohol consumption.6. Participate in stress-reducing activities such as yoga, tai chi, meditation and mindfulness practices.7. Spend time with friends and family.8. Maintain a positive attitude and practice gratitude.9. Stay engaged in life by continuing to learn new things, receive new experiences and contribute to your community.10. Have regular medical checkups to identify health issues early and take preventative measures.\n",
      "\n",
      "2\n",
      "1. Eat a healthy and balanced diet - Consume more fresh vegetables, fruits, whole grains, lean proteins, low-fat dairy products, nuts, and legumes. Reduce your intake of processed foods, sugary drinks and snacks, and red meat. 2. Sleep well - Aim for 7 to 9 hours of quality sleep every night to keep all systems functioning properly. 3. Be physically active - Research shows that regular physical activity strengthens your immune system, life expectancy and may reduce the risk of chronic diseases such as heart disease and stroke. 4. Practice stress management – Find ways to manage everyday stressors in your life by engaging in relaxation techniques or finding hobbies. 5. Avoid smoking and drinking alcohol - Both are detrimental to health and can increase the aging process. Talk to your doctor about quitting when necessary. 6. Connect with others - Take the time to build relationships with family and friends. Being connected socially is not only important for emotional well-being but research has shown it to be beneficial on a physical level too.  7. Visit your healthcare provider regularly - Having a primary caregiver ensures you receive timely screenings and preventative care that can help you stay healthy as you age.\n",
      "\n"
     ]
    }
   ],
   "source": [
    "#8 -presence_penalty\n",
    "#중복된 텍스트를 방지하는 파라미터 값이 높으면 프롬프트로 입력한 텍스트와 중복된 값을 더 적게, 낮으면 프롬프트로 입력한 텍스트와 다르게\n",
    "\n",
    "\n",
    "presence_penalty=[-2, 2, 0, 1, 2]\n",
    "\n",
    "for presence in presence_penalty:\n",
    "    response = openai.Completion.create(\n",
    "        model=\"text-davinci-003\",\n",
    "        prompt=\"How could live longer and better?\",\n",
    "        max_tokens=3000,\n",
    "        presence_penalty=presence\n",
    "    )\n",
    "    response=response.choices[0].text.replace('\\n', '')+'\\n'\n",
    "    print(str(presence)+'\\n'+response)"
   ]
  },
  {
   "cell_type": "code",
   "execution_count": 11,
   "id": "06b360bb",
   "metadata": {},
   "outputs": [
    {
     "name": "stdout",
     "output_type": "stream",
     "text": [
      "-2\n",
      "Accepting a design pattern in programming in involves first understanding the pattern and its components. Once the pattern is understood, the pattern should be implemented in the the the the the the the the the the the the the the the the the the the the the the the the the the the the the the the the the the the the the the the the the the the the the the the the the the the the the the the the the the the the the the the the the the the the the the the the the the the the the the the the the the the the the the the the the the the the the the the the the the the the the the the the the the the the the the the the the the the the the the the the the the the the the the the the the the the the the the the the the the the the the the the the the the the the the the the the the the the the the the the the the the the the the the the the the the the the the the the the the the the the the the the the the the the the the the the the the the the the the the the the the the the the the the the the the the the the the the the the the the the the the the the the the the the the the the the the the the the the the the the the the the the the the the the the the the the the the the the the the the the the the the the the the the the the the the the the the the the the the the the the the the the the the the the the the the the the the the the the the the the the the the the the the the the the the the the the the the the the the the the the the the the the the the the the the the the the the the the the the the the the the the the the the the the the the the the the the the the the the the the the the the the the the the the the the the the the the the the the the the the the the the the the the the the the the the the the the the the the the the the the the the the the the the the the the the the the the the the the the the the the the the the the the the the the the the the the the the the the the the the the the the the the the the the the the the the the the the the the the the the the the the the the the the the the the the the the the the the the the the the the the the the the the the the the the the the the the the the the the the the the the the the the the the the the the the the the the the the the the the the the the the the the the the the the the the the the the the the the the the the the the the the the the the the the the the the the the the the the the the the the the the the the the the the the the the the the the the the the the the the the the the the the the the the the the the the the the the the the the the the the the the the the the the the the the the the the the the the the the the the the the the the the the the the the the the the the the the the the the the the the the the the the the the the the the the the the the the the the the the the the the the the the the the the the the the the the the the the the the the the the the the the the the the the the the the the the the the the the the the the the the the the the the the the the the the the the the the the the the the the the the the the the the the the the the the the the the the the the the the the the the the the the the the the the the the the the the the the the the the the the the the the the the the the the the the the the the the the the the the the the the the the the the the the the the the the the the the the the the the the the the the the the the the the the the the the the the the the the the the the the the the the the the the the the the the the the the the the the the the the the the the the the the the the the the the the the the the the the the the the the the the the the the the the the the the the the the the the the the the the the the the the the the the the the the the the the the the the the the the the the the the the the the the the the the the the the the the the the the the the the the the the the the the the the the the the the the the the the the the the the the the the the the the the the the the the the the the the the the the the the the the the the the the the the the the the the the the the the the the the the the the the the the the the the the the the the the the the the the the the the the the the the the the the the the the the the the the the the the the the the the the the the the the the the the the the the the the the the the the the the the the the the the the the the the the the the the the the the the the the the the the the the the the the the the the the the the the the the the the the the the the the the the the the the the the the the the the the the the the the the the the the the the the the the the the the the the the the the the the the the the the the the the the the the the the the the the the the the the the the the the the the the the the the the the the the the the the the the the the the the the the the the the the the the the the the the the the the the the the the the the the the the the the the the the the the the the the the the the the the the the the the the the the the the the the the the the the the the the the the the the the the the the the the the the the the the the the the the the the the the the the the the the the the the the the the the the the the the the the the the the the the the the the the the the the the the the the the the the the the the the the the the the the the the the the the the the the the the the the the the the the the the the the the the the the the the the the the the the the the the the the the the the the the the the the the the the the the the the the the the the the the the the the the the the the the the the the the the the the the the the the the the the the the the the the the the the the the the the the the the the the the the the the the the the the the the the the the the the the the the the the the the the the the the the the the the the the the the the the the the the the the the the the the the the the the the the the the the the the the the the the the the the the the the the the the the the the the the the the the the the the the the the the the the the the the the the the the the the the the the the the the the the the the the the the the the the the the the the the the the the the the the the the the the the the the the the the the the the the the the the the the the the the the the the the the the the the the the the the the the the the the the the the the the the the the the the the the the the the the the the the the the the the the the the the the the the the the the the the the the the the the the the the the the the the the the the the the the the the the the the the the the the the the the the the the the the the the the the the the the the the the the the the the the the the the the the the the the the the the the the the the the the the the the the the the the the the the the the the the the the the the the the the the the the the the the the the the the the the the the the the the the the the the the the the the the the the the the the the the the the the the the the the the the the the the the the the the the the the the the the the the the the the the the the the the the the the the the the the the the the the the the the the the the the the the the the the the the the the the the the the the the the the the the the the the the the the the the the the the the the the the the the the the the the the the the the the the the the the the the the the the the the the the the the the the the the the the the the the the the the the the the the the the the the the the the the the the the the the the the the the the the the the the the the the the the the the the the the the the the the the the the the the the the the the the the the the the the the the the the the the the the the the the the the the the the the the the the the the the the the the the the the the the the the the the the the the the the the the the the the the the the the the the the the the the the the the the the the the the the the the the the the the the the the the the the the the the the the the the the the the the the the the the the the the the the the the the the the the the the the the the the the the the the the the the the the the the the the the the the the the the the the the the the the the the the the the the the the the the the the the the the the the the the the the the the the the the the the the the the the the the the the the the the the the the the the the the the the the the the the the the the the the the the the the the the the the the the the the the the the the the the the the the the the the the the the the the the the the the the the the the the the the the the the the the the the the the the the the the the the the the the the the the the the the the the the the the the the the the the the the the the the the the the the the the the the the the the the the the the the the the the the the the the the the the the the the the the the the the the the the the the the the the the the the the the the the the the the the the the the the the the the the the the the the the the the the the the the the the the the the the the the the the the the the the the the the the the the the the the the the the the the the the the the the the the the the the the the the the the the the the the the the the the the the the the the the the the the the the the the the the the the the the the the the the the the the the the the the the the the the the the the the the the the the the the the the the the the the the the the the the the the the the the the the the the the the the the the the the the the the the the the the the the the the the the the the the the the the the the the the the the the the the the the the the the the the the the the the the the the the the the the the the the the the the the the the the the the the the the the the the the the the the the the the the the the the the the the the the the the the the the the the the the the the the the the the the the the the the the the the the the the the the the the the the the the the the the the the the the the the the the the the the the the the the the the the the the the the the the the the the the the the the the the the the the the the the the the the the the the the the the the the the the the the the the the the the the the the the the the the the the the the the the the the the the the the the the the the the the the the the the the the the the the the the the the the the the the the the the the the the the the the the the the the the the the the the the the the the the the the the the the the the the the the the the the the the the the the the the the the the the the the the the the the the the the the the the the the the the the the the the the the the the the the the the the the the the the the the the the the the the the the the the the the the the the the the the the the the the the the the the the the the the the the the the the the the the the the the the the the the the the the the the the the the the the the the the the the the the the the the the the the the the the the the the the the the the the the the the the the the the the the the the the the the the the the the the the the the the the the the the the the the the the the the the the the the the the the the the the the the the the the the the the the the the the the the the the the the the the the the the the the the the the the the the the the the the the the the the the the the the the the the the the the the the the the the the the the the the the the the the the the the the the the the the the the the the the the the the the the the the the the the the the the the the the the the the the the the the the the the the the the the the the the the the the the the the the the the the the the the the the the the the the the the the the the the the the the the the the the the the the the the the the the the the the the the the the the the the the the the the the the the the the the the the the the the the the the the the the the the the the the the the the the the the the the the the the the the the the the the the the the the the the\n",
      "\n"
     ]
    },
    {
     "name": "stdout",
     "output_type": "stream",
     "text": [
      "2\n",
      "Design patterns are reusable solutions to common software development problems. To accept a design pattern, you must first understand and analyze the problem that needs to be solved, then examine available design patterns for similarities between the problem solution and the behavior of an existing pattern. If there is a match, decide whether or not it fits in with your programming language and tools. Once accepted, review its implementation details before adapting its practices for use in your own program.\n",
      "\n",
      "0\n",
      "To accept a design pattern in programming, take the following steps:1. Understand the basic purpose of the pattern. Understand the different elements that comprise the pattern and what their purpose is.2. Understand the problem domain and its related components, such as classes and objects.3. Analyze the available options and decide which design pattern is most suitable for the problem.4. Implement the pattern using the desired programming language.5. Test the implementation for errors and modify the pattern if necessary.6. Refactor the code as needed to improve readability and maintainability.\n",
      "\n",
      "1\n",
      "Accepting a design pattern in programming is typically done by studying and understanding the fundamentals of the pattern and its application. This can involve reading tutorials, books, and other resources related to the design pattern as well analyzing code or examples provided by experienced software developers using those patterns. Developing a project using the design pattern is often an important step in fully understanding it.  Additionally, creating a simple program that implements the architecture of certain patterns can also help developers understand how to use them effectively.\n",
      "\n",
      "2\n",
      "To accept a design pattern in programming, you'll need to understand the purpose of the pattern and how it can be implemented. It is important to also have an understanding of other similar patterns because applying one without knowing alternatives can limit design options. Once you have done some research on these concepts and understand how they work, plan out implementation steps while keeping in mind any potential problems or drawbacks that could occur. Finally, test your code using unit tests to ensure that it works as expected before proceeding with deployment into production.\n",
      "\n"
     ]
    }
   ],
   "source": [
    "#frequency_penalty\n",
    "#프롬프트에 입력한 텍스트와 중복 값이 높게...?\n",
    "frequency_penalty = [-2, 2, 0, 1, 2]\n",
    "\n",
    "for frequency in frequency_penalty:\n",
    "    response = openai.Completion.create(\n",
    "        model=\"text-davinci-003\",\n",
    "        prompt=\"How could accept a design pattern in programming?\",\n",
    "        max_tokens =3000,\n",
    "        frequency_penalty = frequency\n",
    "    )\n",
    "    response = response.choices[0].text.replace('\\n','')+'\\n'\n",
    "print(str(frequency)+'\\n'+response)"
   ]
  },
  {
   "cell_type": "code",
   "execution_count": 12,
   "id": "098144b0",
   "metadata": {},
   "outputs": [
    {
     "name": "stdout",
     "output_type": "stream",
     "text": [
      "Which model is the most recently model in chatGPT?\n",
      "\n",
      "ChatGPT's latest model is the GPT-3 model, which was released in June 2020.\n"
     ]
    }
   ],
   "source": [
    "#echo\n",
    "#질문을 그대로 복사해서 답변에 첨부함\n",
    "\n",
    "response = openai.Completion.create(\n",
    "    model=\"text-davinci-003\",\n",
    "    prompt=\"Which model is the most recently model in chatGPT?\",\n",
    "    max_tokens=3000,\n",
    "    echo= True\n",
    ")\n",
    "print(response.choices[0].text)"
   ]
  },
  {
   "cell_type": "code",
   "execution_count": 13,
   "id": "58a36e9c",
   "metadata": {},
   "outputs": [],
   "source": [
    "#stop\n",
    "#stop내부로 지정된 문장, 단어가 들어간 상황을 마주치게 되면 답변을 멈추게 됨\n",
    "\n",
    "response= openai.Completion.create(\n",
    "    model=\"text-davinci-003\",\n",
    "    prompt=\"Who was Sejong in Joseon Dynasty\",\n",
    "    max_tokens=3000,\n",
    "    stop=[\"author\", \"death\"]\n",
    ")\n",
    "print(response.choices[0].text)"
   ]
  },
  {
   "cell_type": "code",
   "execution_count": 14,
   "id": "17fcc409",
   "metadata": {},
   "outputs": [],
   "source": [
    "#logprobs\n",
    "#하나하나씩 띄어서 출력...?\n",
    "response = openai.Completion.create(\n",
    "    model=\"text-davinci-003\",\n",
    "    prompt=\"Who was the best king in the world history?\",\n",
    "    max_tokens = 2000,\n",
    "    stop=[\"author\", \"death\"],\n",
    "    logprobs = 1\n",
    ")\n",
    "print(response.choices[0].text)"
   ]
  }
 ],
 "metadata": {
  "kernelspec": {
   "display_name": "Python 3 (ipykernel)",
   "language": "python",
   "name": "python3"
  },
  "language_info": {
   "codemirror_mode": {
    "name": "ipython",
    "version": 3
   },
   "file_extension": ".py",
   "mimetype": "text/x-python",
   "name": "python",
   "nbconvert_exporter": "python",
   "pygments_lexer": "ipython3",
   "version": "3.9.13"
  }
 },
 "nbformat": 4,
 "nbformat_minor": 5
}
