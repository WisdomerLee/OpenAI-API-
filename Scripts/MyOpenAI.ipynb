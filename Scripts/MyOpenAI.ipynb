{
 "cells": [
  {
   "cell_type": "code",
   "execution_count": 1,
   "id": "4401d718",
   "metadata": {},
   "outputs": [
    {
     "name": "stdout",
     "output_type": "stream",
     "text": [
      "The most famous developer in the Joseon Dynasty was King Sejong the Great. He was responsible for many advances in science, technology, and culture, including the creation of the Korean written language Hangul. He also developed various weapons and tools for the military, including the world's first metal movable type printing press.\n",
      "\n",
      "The most famous developer in Joseon Dynasty was the scholar and diplomat Jeong Yak-yong (1762-1836), also known as Dasan. He was a major contributor to the modernization of Korea, and is considered to be the father of Korean science and technology. He wrote numerous works on philosophy, politics, economics, and science, and was also a major reformer of the Korean language.\n",
      "\n"
     ]
    }
   ],
   "source": [
    "from myopenai import MyOpenAI\n",
    "api_key = \"\"\n",
    "prompt = \"Who was most developer in Joseon Dyansty?\"\n",
    "model=\"text-davinci-003\"\n",
    "n=2\n",
    "maxtokens = 4000\n",
    "temperature = 0.5\n",
    "\n",
    "my_openai = MyOpenAI(prompt, model, n, maxtokens, temperature, api_key)\n",
    "result = my_openai.callgpt()\n",
    "for response in result:\n",
    "    print(response+'\\n')\n",
    "\n"
   ]
  },
  {
   "cell_type": "code",
   "execution_count": null,
   "id": "35bc6e3a",
   "metadata": {},
   "outputs": [],
   "source": []
  }
 ],
 "metadata": {
  "kernelspec": {
   "display_name": "Python 3 (ipykernel)",
   "language": "python",
   "name": "python3"
  },
  "language_info": {
   "codemirror_mode": {
    "name": "ipython",
    "version": 3
   },
   "file_extension": ".py",
   "mimetype": "text/x-python",
   "name": "python",
   "nbconvert_exporter": "python",
   "pygments_lexer": "ipython3",
   "version": "3.9.13"
  }
 },
 "nbformat": 4,
 "nbformat_minor": 5
}
