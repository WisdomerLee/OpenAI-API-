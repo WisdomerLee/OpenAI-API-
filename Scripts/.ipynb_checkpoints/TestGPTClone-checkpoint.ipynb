{
 "cells": [
  {
   "cell_type": "code",
   "execution_count": null,
   "id": "1b4828d7",
   "metadata": {},
   "outputs": [],
   "source": [
    "import requests\n",
    "#request : GPTClone에서 선언한 서버 포트...를 requests.get내부 문자열 앞에 선언하고, GPTClone에서 /chatbot으로 설정해두었으므로 그 뒤에\n",
    "#붙임 pergunta라는 변수로 우리가 선언하였으므로 pergunta변수를 지정함\n",
    "x = requests.get(\"http://127.0.0.1:5000/chatbot?pergunta=where is the penisular?\")\n",
    "print(x.text)"
   ]
  }
 ],
 "metadata": {
  "kernelspec": {
   "display_name": "Python 3 (ipykernel)",
   "language": "python",
   "name": "python3"
  },
  "language_info": {
   "codemirror_mode": {
    "name": "ipython",
    "version": 3
   },
   "file_extension": ".py",
   "mimetype": "text/x-python",
   "name": "python",
   "nbconvert_exporter": "python",
   "pygments_lexer": "ipython3",
   "version": "3.9.13"
  }
 },
 "nbformat": 4,
 "nbformat_minor": 5
}
